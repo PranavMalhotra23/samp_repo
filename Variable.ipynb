{
  "nbformat": 4,
  "nbformat_minor": 0,
  "metadata": {
    "colab": {
      "provenance": []
    },
    "kernelspec": {
      "name": "python3",
      "display_name": "Python 3"
    },
    "language_info": {
      "name": "python"
    }
  },
  "cells": [
    {
      "cell_type": "code",
      "execution_count": 1,
      "metadata": {
        "colab": {
          "base_uri": "https://localhost:8080/",
          "height": 35
        },
        "id": "Wbza9tYaKmT3",
        "outputId": "45f32311-0a18-4841-e998-d629460952f4"
      },
      "outputs": [
        {
          "output_type": "execute_result",
          "data": {
            "text/plain": [
              "'Pranav'"
            ],
            "application/vnd.google.colaboratory.intrinsic+json": {
              "type": "string"
            }
          },
          "metadata": {},
          "execution_count": 1
        }
      ],
      "source": [
        "name=\"Pranav\"\n",
        "name"
      ]
    },
    {
      "cell_type": "code",
      "source": [
        "age = 19\n",
        "age"
      ],
      "metadata": {
        "colab": {
          "base_uri": "https://localhost:8080/"
        },
        "id": "mPzf20zDK2g2",
        "outputId": "8820ca46-ff6d-4936-e08c-8e6f56829fd4"
      },
      "execution_count": 2,
      "outputs": [
        {
          "output_type": "execute_result",
          "data": {
            "text/plain": [
              "19"
            ]
          },
          "metadata": {},
          "execution_count": 2
        }
      ]
    },
    {
      "cell_type": "code",
      "source": [
        "dating_status=\"single:(\"\n",
        "dating_status\n",
        "#make sure you write the variable name correctly"
      ],
      "metadata": {
        "colab": {
          "base_uri": "https://localhost:8080/",
          "height": 35
        },
        "id": "KEHK4bh2K-Vd",
        "outputId": "d650d53a-a582-4946-9942-b5a0ded5ac20"
      },
      "execution_count": 3,
      "outputs": [
        {
          "output_type": "execute_result",
          "data": {
            "text/plain": [
              "'single:('"
            ],
            "application/vnd.google.colaboratory.intrinsic+json": {
              "type": "string"
            }
          },
          "metadata": {},
          "execution_count": 3
        }
      ]
    },
    {
      "cell_type": "code",
      "source": [
        "type(dating_status)\n"
      ],
      "metadata": {
        "colab": {
          "base_uri": "https://localhost:8080/"
        },
        "id": "GG12EyTbLTZX",
        "outputId": "05bf401b-60e3-4b24-b118-f126f6dc6d12"
      },
      "execution_count": 4,
      "outputs": [
        {
          "output_type": "execute_result",
          "data": {
            "text/plain": [
              "str"
            ]
          },
          "metadata": {},
          "execution_count": 4
        }
      ]
    },
    {
      "cell_type": "code",
      "source": [
        "#Rules for making variables\n",
        "#no space between the variable name\n",
        "#the only special character allowed is \"_\" and the variable cant be an number,but c4 and others are allowed\n",
        "# characters A-Z and a-z"
      ],
      "metadata": {
        "id": "2S5uccj9LiH4"
      },
      "execution_count": null,
      "outputs": []
    }
  ]
}